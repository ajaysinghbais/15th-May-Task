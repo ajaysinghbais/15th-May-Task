{
 "cells": [
  {
   "cell_type": "code",
   "execution_count": 1,
   "id": "31ed21f8",
   "metadata": {},
   "outputs": [],
   "source": [
    "#Task of 15th May \"Python Sting Basic\"\n",
    "\n",
    "\"This is My First Python programming class and i am learNING python string and its function\""
   ]
  },
  {
   "cell_type": "code",
   "execution_count": null,
   "id": "e2496ec9",
   "metadata": {},
   "outputs": [],
   "source": [
    "#Question 1\n",
    "Try to extract data from index one to index 300 with a jump of 3"
   ]
  },
  {
   "cell_type": "code",
   "execution_count": 6,
   "id": "7d63aefb",
   "metadata": {},
   "outputs": [],
   "source": [
    "s=\"This is My First Python programming class and i am learNING python string and its function\""
   ]
  },
  {
   "cell_type": "code",
   "execution_count": 8,
   "id": "5a56dcc8",
   "metadata": {},
   "outputs": [
    {
     "data": {
      "text/plain": [
       "'Tssyityopgmncsa alrNph rgni ni'"
      ]
     },
     "execution_count": 8,
     "metadata": {},
     "output_type": "execute_result"
    }
   ],
   "source": [
    "s[:300:3]"
   ]
  },
  {
   "cell_type": "code",
   "execution_count": null,
   "id": "050e9e23",
   "metadata": {},
   "outputs": [],
   "source": [
    "#Question 2\n",
    "Try to reverse a string without using reverse function"
   ]
  },
  {
   "cell_type": "code",
   "execution_count": 10,
   "id": "32865e2b",
   "metadata": {},
   "outputs": [
    {
     "data": {
      "text/plain": [
       "'noitcnuf sti dna gnirts nohtyp GNINrael ma i dna ssalc gnimmargorp nohtyP tsriF yM si sihT'"
      ]
     },
     "execution_count": 10,
     "metadata": {},
     "output_type": "execute_result"
    }
   ],
   "source": [
    "s=\"This is My First Python programming class and i am learNING python string and its function\"\n",
    "s[::-1]"
   ]
  },
  {
   "cell_type": "code",
   "execution_count": null,
   "id": "b9c2aa60",
   "metadata": {},
   "outputs": [],
   "source": [
    "#Question 3\n",
    "Try to split a string after conversion of entire string in uppercase"
   ]
  },
  {
   "cell_type": "code",
   "execution_count": 11,
   "id": "33f73916",
   "metadata": {},
   "outputs": [
    {
     "data": {
      "text/plain": [
       "['THIS',\n",
       " 'IS',\n",
       " 'MY',\n",
       " 'FIRST',\n",
       " 'PYTHON',\n",
       " 'PROGRAMMING',\n",
       " 'CLASS',\n",
       " 'AND',\n",
       " 'I',\n",
       " 'AM',\n",
       " 'LEARNING',\n",
       " 'PYTHON',\n",
       " 'STRING',\n",
       " 'AND',\n",
       " 'ITS',\n",
       " 'FUNCTION']"
      ]
     },
     "execution_count": 11,
     "metadata": {},
     "output_type": "execute_result"
    }
   ],
   "source": [
    "s=\"This is My First Python programming class and i am learNING python string and its function\"\n",
    "s= s.upper()\n",
    "s.split()"
   ]
  },
  {
   "cell_type": "code",
   "execution_count": null,
   "id": "aba28866",
   "metadata": {},
   "outputs": [],
   "source": [
    "#Question 4\n",
    "Try to convert the whole string into lower case"
   ]
  },
  {
   "cell_type": "code",
   "execution_count": 12,
   "id": "f62299fd",
   "metadata": {},
   "outputs": [
    {
     "data": {
      "text/plain": [
       "'this is my first python programming class and i am learning python string and its function'"
      ]
     },
     "execution_count": 12,
     "metadata": {},
     "output_type": "execute_result"
    }
   ],
   "source": [
    "s=\"This is My First Python programming class and i am learNING python string and its function\"\n",
    "s.lower()"
   ]
  },
  {
   "cell_type": "code",
   "execution_count": null,
   "id": "5ea30f00",
   "metadata": {},
   "outputs": [],
   "source": [
    "#Question 5\n",
    "Try to capitalize the whole string"
   ]
  },
  {
   "cell_type": "code",
   "execution_count": 13,
   "id": "730ec07a",
   "metadata": {},
   "outputs": [
    {
     "data": {
      "text/plain": [
       "'This is my first python programming class and i am learning python string and its function'"
      ]
     },
     "execution_count": 13,
     "metadata": {},
     "output_type": "execute_result"
    }
   ],
   "source": [
    "s=\"This is My First Python programming class and i am learNING python string and its function\"\n",
    "s.capitalize()"
   ]
  },
  {
   "cell_type": "code",
   "execution_count": 16,
   "id": "f16e77c3",
   "metadata": {},
   "outputs": [
    {
     "data": {
      "text/plain": [
       "'THIS IS MY FIRST PYTHON PROGRAMMING CLASS AND I AM LEARNING PYTHON STRING AND ITS FUNCTION'"
      ]
     },
     "execution_count": 16,
     "metadata": {},
     "output_type": "execute_result"
    }
   ],
   "source": [
    "s=\"This is My First Python programming class and i am learNING python string and its function\"\n",
    "s.upper()"
   ]
  },
  {
   "cell_type": "code",
   "execution_count": null,
   "id": "c4494539",
   "metadata": {},
   "outputs": [],
   "source": [
    "#Question 6\n",
    "Write a diference between isalnum() and isalpha()\n",
    "\n",
    "Answer.\n",
    "'isalnum' is function to check that there is Alphabet or Numeric present in given data or not, i can identify both value and output the result.\n",
    "\n",
    "'isalpha' is function to check only for the Aplhabet in whole string or data, if there is a single number or other character appear in data, the output wil come false."
   ]
  },
  {
   "cell_type": "code",
   "execution_count": null,
   "id": "420e41a9",
   "metadata": {},
   "outputs": [],
   "source": [
    "#Question 7\n",
    "Try to give an example of expand tab."
   ]
  },
  {
   "cell_type": "code",
   "execution_count": 20,
   "id": "1c9779e1",
   "metadata": {},
   "outputs": [],
   "source": [
    "s=\"Ajay\\tMale\\'29'\""
   ]
  },
  {
   "cell_type": "code",
   "execution_count": 21,
   "id": "05dff6c0",
   "metadata": {},
   "outputs": [
    {
     "data": {
      "text/plain": [
       "\"Ajay    Male'29'\""
      ]
     },
     "execution_count": 21,
     "metadata": {},
     "output_type": "execute_result"
    }
   ],
   "source": [
    "s.expandtabs()"
   ]
  },
  {
   "cell_type": "code",
   "execution_count": null,
   "id": "66791134",
   "metadata": {},
   "outputs": [],
   "source": [
    "#Question 8\n",
    "Give an example of strip, Istrip and rstrip "
   ]
  },
  {
   "cell_type": "code",
   "execution_count": 31,
   "id": "a6608295",
   "metadata": {},
   "outputs": [],
   "source": [
    "s=\"                 this string have lots of space                       \""
   ]
  },
  {
   "cell_type": "code",
   "execution_count": 32,
   "id": "9deeaa80",
   "metadata": {},
   "outputs": [
    {
     "data": {
      "text/plain": [
       "'this string have lots of space'"
      ]
     },
     "execution_count": 32,
     "metadata": {},
     "output_type": "execute_result"
    }
   ],
   "source": [
    "s.strip()"
   ]
  },
  {
   "cell_type": "code",
   "execution_count": 33,
   "id": "9324c93c",
   "metadata": {},
   "outputs": [],
   "source": [
    "s= \"                                        we have too much space left\""
   ]
  },
  {
   "cell_type": "code",
   "execution_count": 34,
   "id": "3a6f04d6",
   "metadata": {},
   "outputs": [
    {
     "data": {
      "text/plain": [
       "'we have too much space left'"
      ]
     },
     "execution_count": 34,
     "metadata": {},
     "output_type": "execute_result"
    }
   ],
   "source": [
    "s.lstrip()"
   ]
  },
  {
   "cell_type": "code",
   "execution_count": 35,
   "id": "d761ded3",
   "metadata": {},
   "outputs": [],
   "source": [
    "s=\"unnecessary space isn't riht                                \""
   ]
  },
  {
   "cell_type": "code",
   "execution_count": 37,
   "id": "7d747a0a",
   "metadata": {},
   "outputs": [
    {
     "data": {
      "text/plain": [
       "\"unnecessary space isn't riht\""
      ]
     },
     "execution_count": 37,
     "metadata": {},
     "output_type": "execute_result"
    }
   ],
   "source": [
    "s.rstrip()"
   ]
  },
  {
   "cell_type": "code",
   "execution_count": null,
   "id": "fd2f1bdb",
   "metadata": {},
   "outputs": [],
   "source": [
    "#Question 9\n",
    "Replace a string charecter by another charecter by taking your own example.\n"
   ]
  },
  {
   "cell_type": "code",
   "execution_count": 53,
   "id": "902a6208",
   "metadata": {},
   "outputs": [],
   "source": [
    "password=\"Your passord is Peace\""
   ]
  },
  {
   "cell_type": "code",
   "execution_count": 58,
   "id": "eadd3f92",
   "metadata": {},
   "outputs": [
    {
     "data": {
      "text/plain": [
       "'Your passord is Peace'"
      ]
     },
     "execution_count": 58,
     "metadata": {},
     "output_type": "execute_result"
    }
   ],
   "source": [
    "password"
   ]
  },
  {
   "cell_type": "code",
   "execution_count": 64,
   "id": "55e2b7c1",
   "metadata": {},
   "outputs": [
    {
     "data": {
      "text/plain": [
       "'Your passord is @$%@&'"
      ]
     },
     "execution_count": 64,
     "metadata": {},
     "output_type": "execute_result"
    }
   ],
   "source": [
    "password.replace('Peace', '@$%@&')"
   ]
  },
  {
   "cell_type": "code",
   "execution_count": null,
   "id": "5a61874c",
   "metadata": {},
   "outputs": [],
   "source": [
    "#Question 10\n",
    "Try to give a defination of string center function with and exmple\n",
    "\n",
    "Ans. String Center function covers before and after space of string and replace it with character which we want to use as a filler."
   ]
  },
  {
   "cell_type": "code",
   "execution_count": 72,
   "id": "973489b1",
   "metadata": {},
   "outputs": [],
   "source": [
    "i= \"ineuron\""
   ]
  },
  {
   "cell_type": "code",
   "execution_count": 74,
   "id": "17fcc3fd",
   "metadata": {},
   "outputs": [
    {
     "data": {
      "text/plain": [
       "'______ineuron_______'"
      ]
     },
     "execution_count": 74,
     "metadata": {},
     "output_type": "execute_result"
    }
   ],
   "source": [
    "i.center(20, \"_\")"
   ]
  },
  {
   "cell_type": "code",
   "execution_count": null,
   "id": "8c1c87c6",
   "metadata": {},
   "outputs": [],
   "source": [
    "#Question 11\n",
    "Write your own definition of compiler and interpretor without copy paste form internet in your own language.\n",
    "\n",
    "Answer\n",
    "Compiler and interpretor both are high level language translator, but compiler translate the whole program together and interpreter translate code line by line, interpreter is slow and time taking process compared to compiler."
   ]
  },
  {
   "cell_type": "code",
   "execution_count": null,
   "id": "88db614f",
   "metadata": {},
   "outputs": [],
   "source": [
    "#Question 12\n",
    "Python is a interpreted of compiled language give a clear ans with your understanding.\n",
    "\n",
    "Answer\n",
    "Yes Python is interepreted compiled language, it is a translator of high level language, but in simple way, it converts program line by line, code by code it is more like give command in English lanuage, easily understandable without any technicality, no need to learn or memorize every formula, because its predifined and stored in Python. One can easily learn python by practice."
   ]
  },
  {
   "cell_type": "code",
   "execution_count": null,
   "id": "babcf596",
   "metadata": {},
   "outputs": [],
   "source": [
    "#Question 13\n",
    "Try to write a usecase of python with your understanding.\n",
    "\n",
    "Answer.\n",
    "Python is high level object orinted language with easy interface and predifined codes, it can use in many ways such as website development, creating software, creating application, create game etc. It also use to store and process data in useful ways such as Machine Learning and Artifical intelligence. It helps to make decision from previous data in order to make useful insights."
   ]
  }
 ],
 "metadata": {
  "kernelspec": {
   "display_name": "Python 3 (ipykernel)",
   "language": "python",
   "name": "python3"
  },
  "language_info": {
   "codemirror_mode": {
    "name": "ipython",
    "version": 3
   },
   "file_extension": ".py",
   "mimetype": "text/x-python",
   "name": "python",
   "nbconvert_exporter": "python",
   "pygments_lexer": "ipython3",
   "version": "3.9.12"
  }
 },
 "nbformat": 4,
 "nbformat_minor": 5
}
